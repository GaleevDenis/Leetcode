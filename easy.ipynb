{
 "cells": [
  {
   "cell_type": "code",
   "execution_count": 8,
   "metadata": {},
   "outputs": [
    {
     "name": "stdout",
     "output_type": "stream",
     "text": [
      "[1]\n"
     ]
    }
   ],
   "source": [
    "head = [1,2,3,4,5,6]\n",
    "def qwe(head):\n",
    " return head[(len(head) // 2):]\n",
    "print(qwe(head))"
   ]
  },
  {
   "cell_type": "code",
   "execution_count": 11,
   "metadata": {},
   "outputs": [
    {
     "name": "stdout",
     "output_type": "stream",
     "text": [
      "1\n",
      "2\n",
      "3\n"
     ]
    }
   ],
   "source": [
    "# Связаный список\n",
    "\n",
    "class Node:\n",
    "    def __init__(self, data):\n",
    "        self.data = data\n",
    "        self.next = None\n",
    "    \n",
    "    def append(self, val):\n",
    "        end = Node(val)\n",
    "        n = self\n",
    "        while (n.next):\n",
    "            n = n.next\n",
    "        n.next = end\n",
    "        \n",
    "ll = Node(1)\n",
    "ll.append(2)\n",
    "ll.append(3)\n",
    "node = ll\n",
    "print(node.data)\n",
    "while node.next:\n",
    "    node = node.next\n",
    "    print(node.data)"
   ]
  },
  {
   "cell_type": "code",
   "execution_count": null,
   "metadata": {},
   "outputs": [],
   "source": [
    "# 123\n",
    "\n",
    "class LinkedList:\n",
    "    head = None\n",
    "    \n",
    "    class Node:\n",
    "        element = None\n",
    "        next_node = None\n",
    "        \n",
    "        def __init__(self, element, next_node = None):\n",
    "            self.element = element\n",
    "            self.next_node = next_node\n",
    "    \n",
    "    def append(self, element):\n",
    "        if not self.head:\n",
    "            self.head = self.Node(element)\n",
    "         "
   ]
  }
 ],
 "metadata": {
  "kernelspec": {
   "display_name": "Python 3",
   "language": "python",
   "name": "python3"
  },
  "language_info": {
   "codemirror_mode": {
    "name": "ipython",
    "version": 3
   },
   "file_extension": ".py",
   "mimetype": "text/x-python",
   "name": "python",
   "nbconvert_exporter": "python",
   "pygments_lexer": "ipython3",
   "version": "3.9.13"
  },
  "orig_nbformat": 4
 },
 "nbformat": 4,
 "nbformat_minor": 2
}
